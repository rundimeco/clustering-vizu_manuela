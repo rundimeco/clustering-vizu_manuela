{
 "cells": [
  {
   "cell_type": "code",
   "execution_count": 1,
   "metadata": {},
   "outputs": [
    {
     "data": {
      "text/html": [
       "&lt;style>.container { width:98% !important; }&lt;/style>"
      ],
      "text/plain": [
       "<IPython.core.display.HTML object>"
      ]
     },
     "metadata": {},
     "output_type": "display_data"
    }
   ],
   "source": [
    "# -*- coding: utf-8 -*-\n",
    "\n",
    "'''================Imports========================='''\n",
    "%matplotlib inline\n",
    "import scattertext as st\n",
    "import re, io\n",
    "from pprint import pprint\n",
    "import pandas as pd\n",
    "import numpy as np\n",
    "from scipy.stats import rankdata, hmean, norm\n",
    "import spacy\n",
    "import os, pkgutil, json, urllib\n",
    "from urllib.request import urlopen\n",
    "from IPython.display import IFrame\n",
    "from IPython.core.display import display, HTML\n",
    "from scattertext import CorpusFromPandas, produce_scattertext_explorer\n",
    "display(HTML(\"&lt;style>.container { width:98% !important; }&lt;/style>\"))\n",
    "\n",
    "#on importe spacy\n",
    "import spacy"
   ]
  },
  {
   "cell_type": "code",
   "execution_count": 5,
   "metadata": {},
   "outputs": [
    {
     "name": "stdout",
     "output_type": "stream",
     "text": [
      "76\n",
      "16\n",
      "79\n",
      "26\n",
      "82\n",
      "38\n"
     ]
    }
   ],
   "source": [
    "import glob\n",
    "def lire_fichier(chemin):\n",
    "  f = open(chemin, errors=\"ignore\")\n",
    "  chaine = f.read()\n",
    "  f.close()\n",
    "  return chaine\n",
    "\n",
    "corpus_by_lang = {}\n",
    "liste_lang = [\"de\", \"en\", \"fr\"]\n",
    "for lang in liste_lang:\n",
    "  liste_renouvelable = glob.glob(f\"data_manuela/Corpus_EnergiesRenouvelables/{lang}/*\")\n",
    "  liste_autre = glob.glob(f\"data_manuela/CorpusClimat-AutresEnergies/other_{lang}/*\")\n",
    "  print(len(liste_renouvelable))\n",
    "  print(len(liste_autre))\n",
    "  corpus_renouvelable = [lire_fichier(chemin) for chemin in liste_renouvelable]\n",
    "  corpus_autre = [lire_fichier(chemin) for chemin in liste_autre]\n",
    "  liste_types= []\n",
    "  for i in range(len(corpus_renouvelable)):\n",
    "    liste_types.append(\"renouvelable\")\n",
    "  for i in range(len(corpus_autre)):\n",
    "    liste_types.append(\"autre\")\n",
    "  corpus_by_lang[lang] = {'text': corpus_renouvelable+corpus_autre, 'type': liste_types}"
   ]
  },
  {
   "cell_type": "code",
   "execution_count": 3,
   "metadata": {},
   "outputs": [],
   "source": [
    "spacy_models = {\"en\": spacy.load(\"en_core_web_sm\"),\n",
    "                \"fr\": spacy.load(\"fr_core_news_sm\"),\n",
    "                \"de\": spacy.load(\"de_core_news_sm\")}\n"
   ]
  },
  {
   "cell_type": "code",
   "execution_count": 8,
   "metadata": {},
   "outputs": [
    {
     "name": "stdout",
     "output_type": "stream",
     "text": [
      "processing de data\n",
      "  parsing de data\n",
      "  putting in a graph de data\n",
      "  outputing de data\n"
     ]
    }
   ],
   "source": [
    "for lang in [\"de\"]:\n",
    "  print(f\"processing {lang} data\")\n",
    "  nlp = spacy_models[lang]\n",
    "  data_complet = pd.DataFrame(data = corpus_by_lang[lang])\n",
    "  print(f\"  parsing {lang} data\")\n",
    "  data_complet['parsed'] = data_complet.text.apply(nlp)\n",
    "  corpus_cat = st.CorpusFromParsedDocuments(data_complet, category_col='type', parsed_col='parsed').build()\n",
    "  print(f\"  putting in a graph {lang} data\")\n",
    "  html = st.produce_scattertext_explorer(corpus_cat,\n",
    "    category='renouvelable',\n",
    "    category_name='renouvelable',\n",
    "    not_category_name='autre',\n",
    "    width_in_pixels=1000)#,\n",
    "    #metadata = corpus_cat['type'])\n",
    "  print(f\"  outputing {lang} data\")\n",
    "  w = open(f\"output_{lang}.html\", \"w\")\n",
    "  w.write(html)\n",
    "  w.close()"
   ]
  },
  {
   "cell_type": "code",
   "execution_count": 11,
   "metadata": {},
   "outputs": [],
   "source": []
  },
  {
   "cell_type": "code",
   "execution_count": 12,
   "metadata": {},
   "outputs": [],
   "source": []
  },
  {
   "cell_type": "code",
   "execution_count": null,
   "metadata": {},
   "outputs": [],
   "source": []
  }
 ],
 "metadata": {
  "kernelspec": {
   "display_name": "Python 3",
   "language": "python",
   "name": "python3"
  },
  "language_info": {
   "codemirror_mode": {
    "name": "ipython",
    "version": 3
   },
   "file_extension": ".py",
   "mimetype": "text/x-python",
   "name": "python",
   "nbconvert_exporter": "python",
   "pygments_lexer": "ipython3",
   "version": "3.7.5"
  }
 },
 "nbformat": 4,
 "nbformat_minor": 2
}
